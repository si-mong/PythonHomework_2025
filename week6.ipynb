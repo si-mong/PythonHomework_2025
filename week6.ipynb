{
 "cells": [
  {
   "cell_type": "code",
   "execution_count": 28,
   "id": "ce07cf5a-b8d0-4d74-8ac0-036b32b92e7c",
   "metadata": {},
   "outputs": [
    {
     "name": "stdin",
     "output_type": "stream",
     "text": [
      "학번:  12341234\n",
      "이름:  김ㅇㅇ\n",
      "영어 점수:  87\n",
      "C-언어 점수:  90\n",
      "파이썬 점수:  92\n"
     ]
    },
    {
     "name": "stdout",
     "output_type": "stream",
     "text": [
      "\n",
      "\n"
     ]
    },
    {
     "name": "stdin",
     "output_type": "stream",
     "text": [
      "학번:  11112222\n",
      "이름:  이ㅇㅇ\n",
      "영어 점수:  100\n",
      "C-언어 점수:  87\n",
      "파이썬 점수:  90\n"
     ]
    },
    {
     "name": "stdout",
     "output_type": "stream",
     "text": [
      "\n",
      "\n"
     ]
    },
    {
     "name": "stdin",
     "output_type": "stream",
     "text": [
      "학번:  10002000\n",
      "이름:  박ㅇㅇ\n",
      "영어 점수:  92\n",
      "C-언어 점수:  90\n",
      "파이썬 점수:  90\n"
     ]
    },
    {
     "name": "stdout",
     "output_type": "stream",
     "text": [
      "\n",
      "\n",
      "\n",
      "\t\t\t성적 관리 프로그램\n",
      "\n",
      "============================================================================\n",
      "학번\t\t이름\t영어\tC-언어\t파이썬\t총점\t평균\t학점\t등수\n",
      "============================================================================\n",
      "12341234\t김ㅇㅇ\t87\t90\t92\t269\t89.67\tB+\t3\n",
      "11112222\t이ㅇㅇ\t100\t87\t90\t277\t92.33\tA\t1\n",
      "10002000\t박ㅇㅇ\t92\t90\t90\t272\t90.67\tA\t2\n",
      "============================================================================\n",
      "* 평균 점수 80점 이상인 학생 수: 3명\n",
      "\n",
      "----------------------------------------------------------\n",
      "메뉴:  1.삽입  2.삭제  3.학번탐색  4.총점정렬  5.출력  0.종료\n"
     ]
    },
    {
     "name": "stdin",
     "output_type": "stream",
     "text": [
      "선택:  1\n"
     ]
    },
    {
     "name": "stdout",
     "output_type": "stream",
     "text": [
      "----------------------------------------------------------\n"
     ]
    },
    {
     "name": "stdin",
     "output_type": "stream",
     "text": [
      "학번:  11118888\n",
      "이름:  최ㅇㅇ\n",
      "영어 점수:  97\n",
      "C-언어 점수:  100\n",
      "파이썬 점수:  93\n"
     ]
    },
    {
     "name": "stdout",
     "output_type": "stream",
     "text": [
      "\n",
      "\n",
      "----------------------------------------------------------\n",
      "메뉴:  1.삽입  2.삭제  3.학번탐색  4.총점정렬  5.출력  0.종료\n"
     ]
    },
    {
     "name": "stdin",
     "output_type": "stream",
     "text": [
      "선택:  1\n"
     ]
    },
    {
     "name": "stdout",
     "output_type": "stream",
     "text": [
      "----------------------------------------------------------\n"
     ]
    },
    {
     "name": "stdin",
     "output_type": "stream",
     "text": [
      "학번:  22225555\n",
      "이름:  유ㅇㅇ\n",
      "영어 점수:  83\n",
      "C-언어 점수:  85\n",
      "파이썬 점수:  88\n"
     ]
    },
    {
     "name": "stdout",
     "output_type": "stream",
     "text": [
      "\n",
      "\n",
      "----------------------------------------------------------\n",
      "메뉴:  1.삽입  2.삭제  3.학번탐색  4.총점정렬  5.출력  0.종료\n"
     ]
    },
    {
     "name": "stdin",
     "output_type": "stream",
     "text": [
      "선택:  3\n"
     ]
    },
    {
     "name": "stdout",
     "output_type": "stream",
     "text": [
      "----------------------------------------------------------\n"
     ]
    },
    {
     "name": "stdin",
     "output_type": "stream",
     "text": [
      "검색할 학번 입력:  11112222\n"
     ]
    },
    {
     "name": "stdout",
     "output_type": "stream",
     "text": [
      "11112222\t이ㅇㅇ\t100\t87\t90\t277\t92.33\tA\t2\n",
      "\n",
      "\n",
      "----------------------------------------------------------\n",
      "메뉴:  1.삽입  2.삭제  3.학번탐색  4.총점정렬  5.출력  0.종료\n"
     ]
    },
    {
     "name": "stdin",
     "output_type": "stream",
     "text": [
      "선택:  4\n"
     ]
    },
    {
     "name": "stdout",
     "output_type": "stream",
     "text": [
      "----------------------------------------------------------\n",
      "총점 기준으로 정렬 완료.\n",
      "\n",
      "----------------------------------------------------------\n",
      "메뉴:  1.삽입  2.삭제  3.학번탐색  4.총점정렬  5.출력  0.종료\n"
     ]
    },
    {
     "name": "stdin",
     "output_type": "stream",
     "text": [
      "선택:  5\n"
     ]
    },
    {
     "name": "stdout",
     "output_type": "stream",
     "text": [
      "----------------------------------------------------------\n",
      "\n",
      "\t\t\t성적 관리 프로그램\n",
      "\n",
      "============================================================================\n",
      "학번\t\t이름\t영어\tC-언어\t파이썬\t총점\t평균\t학점\t등수\n",
      "============================================================================\n",
      "11118888\t최ㅇㅇ\t97\t100\t93\t290\t96.67\tA+\t1\n",
      "11112222\t이ㅇㅇ\t100\t87\t90\t277\t92.33\tA\t2\n",
      "10002000\t박ㅇㅇ\t92\t90\t90\t272\t90.67\tA\t3\n",
      "12341234\t김ㅇㅇ\t87\t90\t92\t269\t89.67\tB+\t4\n",
      "22225555\t유ㅇㅇ\t83\t85\t88\t256\t85.33\tB+\t5\n",
      "============================================================================\n",
      "* 평균 점수 80점 이상인 학생 수: 5명\n",
      "\n",
      "\n",
      "\n",
      "----------------------------------------------------------\n",
      "메뉴:  1.삽입  2.삭제  3.학번탐색  4.총점정렬  5.출력  0.종료\n"
     ]
    },
    {
     "name": "stdin",
     "output_type": "stream",
     "text": [
      "선택:  0\n"
     ]
    },
    {
     "name": "stdout",
     "output_type": "stream",
     "text": [
      "----------------------------------------------------------\n",
      "프로그램 종료.\n"
     ]
    }
   ],
   "source": [
    "  ##################\n",
    "\n",
    "  #프로그램명: 학생 성적관리 프로그램\n",
    "\n",
    "  #작성자: 소프트웨어학부 2023078086 최은재\n",
    "\n",
    "  #작성일: 2025-04-11\n",
    "\n",
    "  #프로그램 설명: \n",
    "\"\"\" \n",
    "    5명의 학생의 세개의 교과목 (영어, C-언어, 파이썬)에 대하여 \n",
    "\n",
    "     키보드로부터 학번, 이름, 영어점수, C-언어 점수, 파이썬 점수를 입력받아 총점, 평균, 학점, 등수를  계산하는 프로그램 작성\n",
    "\n",
    "       - 입력 함수, 총점/평균 계산 함수,  학점계산 함수, 등수계산 함수, 출력 함수 \n",
    "\n",
    "       - 삽입 함수, 삭제 함수, 탐색함수(학번, 이름), 정렬(총점)함수, 80점이상 학생 수 카운트 함수 \n",
    "\"\"\" \n",
    "  ###################\n",
    "\n",
    "# 학생 한 명의 정보를 저장하고, 계산하는 클래스\n",
    "class Student:\n",
    "    def __init__(self, stu_num, name, eng, c_lang, python):\n",
    "        # 기본 정보 입력\n",
    "        self.stu_num = stu_num\n",
    "        self.name = name\n",
    "        self.eng = eng\n",
    "        self.c_lang = c_lang\n",
    "        self.python = python\n",
    "\n",
    "        # 성적 관련 초기값 설정\n",
    "        self.total = 0\n",
    "        self.average = 0.0\n",
    "        self.grade = ''\n",
    "        self.rank = 1\n",
    "\n",
    "    # 총점 및 평균 계산\n",
    "    def calculate_score(self):\n",
    "        self.total = self.eng + self.c_lang + self.python\n",
    "        self.average = round(self.total / 3, 2)\n",
    "\n",
    "    # 평균을 기반으로 학점 부여\n",
    "    def assign_grade(self):\n",
    "        avg = self.average\n",
    "        if avg >= 95:\n",
    "            self.grade = 'A+'\n",
    "        elif avg >= 90:\n",
    "            self.grade = 'A'\n",
    "        elif avg >= 85:\n",
    "            self.grade = 'B+'\n",
    "        elif avg >= 80:\n",
    "            self.grade = 'B'\n",
    "        elif avg >= 75:\n",
    "            self.grade = 'C+'\n",
    "        elif avg >= 70:\n",
    "            self.grade = 'C'\n",
    "        elif avg >= 65:\n",
    "            self.grade = 'D+'\n",
    "        elif avg >= 60:\n",
    "            self.grade = 'D'\n",
    "        else:\n",
    "            self.grade = 'F'\n",
    "\n",
    "    # 학생 정보를 한 줄로 출력\n",
    "    def print_info(self):\n",
    "        print(f\"{self.stu_num}\\t{self.name}\\t{self.eng}\\t{self.c_lang}\\t{self.python}\\t\"\n",
    "              f\"{self.total}\\t{self.average}\\t{self.grade}\\t{self.rank}\")\n",
    "\n",
    "\n",
    "# 여러 명의 학생을 관리하는 클래스\n",
    "class GradeManager:\n",
    "    def __init__(self):\n",
    "        self.students = []\n",
    "\n",
    "    # 학생 정보를 입력받아 리스트에 추가 \n",
    "    def input(self, num=3):\n",
    "        for _ in range(num):\n",
    "            self.add_student()\n",
    "            print(\"\\n\")\n",
    "\n",
    "    # 학생 추가 (삽입 기능)\n",
    "    def add_student(self):\n",
    "        # 사용자로부터 정보 입력\n",
    "        stu_num = int(input(\"학번: \"))\n",
    "        name = input(\"이름: \")\n",
    "        eng = int(input(\"영어 점수: \"))\n",
    "        c_lang = int(input(\"C-언어 점수: \"))\n",
    "        python = int(input(\"파이썬 점수: \"))\n",
    "\n",
    "        # 학생 객체 생성 및 성적 계산\n",
    "        student = Student(stu_num, name, eng, c_lang, python)\n",
    "        student.calculate_score()\n",
    "        student.assign_grade()\n",
    "\n",
    "        # 학생 리스트에 추가\n",
    "        self.students.append(student)\n",
    "\n",
    "    # 학번으로 학생 삭제\n",
    "    def delete_student(self, stu_num):\n",
    "        for i, student in enumerate(self.students):\n",
    "            # 입력받은 학번과 일치하면 삭제\n",
    "            if student.stu_num == stu_num:\n",
    "                del self.students[i]\n",
    "                print(f\"{stu_num} 학번 학생 삭제 완료.\")\n",
    "                return\n",
    "        #반복문 다 돌고 탈출했다는 말은 일치하는 학생 못 찾았다는 뜻\n",
    "        #탐색실패로 삭제 못 함\n",
    "        print(\"삭제할 학생을 찾을 수 없습니다.\")\n",
    "\n",
    "    # 학번으로 학생 탐색\n",
    "    def search_by_id(self, stu_num):\n",
    "        for student in self.students:\n",
    "            if student.stu_num == stu_num:\n",
    "                student.print_info()\n",
    "                return\n",
    "        print(\"해당 학번의 학생을 찾을 수 없습니다.\")\n",
    "\n",
    "    # 모든 학생의 점수 재계산 및 학점 부여\n",
    "    def calculate_all(self):\n",
    "        for student in self.students:\n",
    "            student.calculate_score()\n",
    "            student.assign_grade()\n",
    "\n",
    "    # 평균을 기준으로 등수 계산\n",
    "    def assign_ranks(self):\n",
    "        for i in range(len(self.students)):\n",
    "            self.students[i].rank = 1  # 초기화\n",
    "            \n",
    "            #본인보다 평균 점수가 높은 학색 수만큼 등수 up\n",
    "            for j in range(len(self.students)):\n",
    "                if self.students[i].average < self.students[j].average:\n",
    "                    self.students[i].rank += 1\n",
    "\n",
    "    # 총점을 기준으로 학생 정렬-내림차순\n",
    "    def sort_student(self):\n",
    "        def total_score_key(student):\n",
    "            return student.total\n",
    "        self.students.sort(key=total_score_key, reverse=True)\n",
    "\n",
    "    # 평균 점수 80점 이상인 학생 수 카운트\n",
    "    def count_over_80(self):\n",
    "        return sum(1 for student in self.students if student.average >= 80)\n",
    "\n",
    "    # 전체 학생 정보 출력\n",
    "    def print_all(self):\n",
    "        print(\"\\n\\t\\t\\t성적 관리 프로그램\\n\")\n",
    "        print(\"============================================================================\")\n",
    "        print(\"학번\\t\\t이름\\t영어\\tC-언어\\t파이썬\\t총점\\t평균\\t학점\\t등수\")\n",
    "        print(\"============================================================================\")\n",
    "        for student in self.students:\n",
    "            student.print_info()\n",
    "        print(\"============================================================================\")\n",
    "        print(f\"* 평균 점수 80점 이상인 학생 수: {self.count_over_80()}명\\n\")\n",
    "\n",
    "\n",
    "# 메뉴 함수\n",
    "def menu():\n",
    "    gm = GradeManager()\n",
    "    gm.input()             \n",
    "    gm.calculate_all()\n",
    "    gm.assign_ranks()\n",
    "    gm.print_all()\n",
    "\n",
    "    # 메뉴 반복\n",
    "    while True:\n",
    "        print(\"----------------------------------------------------------\")\n",
    "        print(\"메뉴:  1.삽입  2.삭제  3.학번탐색  4.총점정렬  5.출력  0.종료\")\n",
    "        choice = input(\"선택: \")\n",
    "        print(\"----------------------------------------------------------\")\n",
    "        \n",
    "        # 각 메뉴에 맞는 함수들을 호출\n",
    "        if choice == '1':\n",
    "            gm.add_student()\n",
    "            gm.assign_ranks()\n",
    "            print(\"\\n\")\n",
    "\n",
    "        elif choice == '2':\n",
    "            sid = int(input(\"삭제할 학생의 학번 입력: \"))\n",
    "            gm.delete_student(sid)\n",
    "            gm.assign_ranks()\n",
    "            print(\"\\n\")\n",
    "\n",
    "        elif choice == '3':\n",
    "            sid = int(input(\"검색할 학번 입력: \"))\n",
    "            gm.search_by_id(sid)\n",
    "            print(\"\\n\")\n",
    "\n",
    "        elif choice == '4':\n",
    "            gm.sort_student()\n",
    "            gm.assign_ranks()\n",
    "            print(\"총점 기준으로 정렬 완료.\\n\")\n",
    "\n",
    "        elif choice == '5':\n",
    "            gm.print_all()\n",
    "            print(\"\\n\")\n",
    "\n",
    "        elif choice == '0':\n",
    "            print(\"프로그램 종료.\")\n",
    "            break\n",
    "\n",
    "        else:\n",
    "            print(\"잘못된 선택입니다.\")\n",
    "\n",
    "\n",
    "# 프로그램 시작\n",
    "menu()\n"
   ]
  },
  {
   "cell_type": "code",
   "execution_count": null,
   "id": "59bfade2-9e43-4cad-84dc-beb86069d9d4",
   "metadata": {},
   "outputs": [],
   "source": []
  }
 ],
 "metadata": {
  "kernelspec": {
   "display_name": "Python 3 (ipykernel)",
   "language": "python",
   "name": "python3"
  },
  "language_info": {
   "codemirror_mode": {
    "name": "ipython",
    "version": 3
   },
   "file_extension": ".py",
   "mimetype": "text/x-python",
   "name": "python",
   "nbconvert_exporter": "python",
   "pygments_lexer": "ipython3",
   "version": "3.12.4"
  }
 },
 "nbformat": 4,
 "nbformat_minor": 5
}
