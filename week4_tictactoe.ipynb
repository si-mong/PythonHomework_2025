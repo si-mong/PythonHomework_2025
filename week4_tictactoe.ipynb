{
 "cells": [
  {
   "cell_type": "code",
   "execution_count": 13,
   "id": "fcffe69d-66b2-4f97-8ab5-7043d00cfdae",
   "metadata": {},
   "outputs": [
    {
     "name": "stdout",
     "output_type": "stream",
     "text": [
      "   |   |  \n",
      "---|---|---\n",
      "   |   |  \n",
      "---|---|---\n",
      "   |   |  \n"
     ]
    },
    {
     "name": "stdin",
     "output_type": "stream",
     "text": [
      "다음 수의 x좌표를 입력하시오 (0~2):  1\n",
      "다음 수의 y좌표를 입력하시오 (0~2):  1\n"
     ]
    },
    {
     "name": "stdout",
     "output_type": "stream",
     "text": [
      " O |   |  \n",
      "---|---|---\n",
      "   | X |  \n",
      "---|---|---\n",
      "   |   |  \n"
     ]
    },
    {
     "name": "stdin",
     "output_type": "stream",
     "text": [
      "다음 수의 x좌표를 입력하시오 (0~2):  0\n",
      "다음 수의 y좌표를 입력하시오 (0~2):  2\n"
     ]
    },
    {
     "name": "stdout",
     "output_type": "stream",
     "text": [
      " O | O | X\n",
      "---|---|---\n",
      "   | X |  \n",
      "---|---|---\n",
      "   |   |  \n"
     ]
    },
    {
     "name": "stdin",
     "output_type": "stream",
     "text": [
      "다음 수의 x좌표를 입력하시오 (0~2):  2\n",
      "다음 수의 y좌표를 입력하시오 (0~2):  0\n"
     ]
    },
    {
     "name": "stdout",
     "output_type": "stream",
     "text": [
      " O | O | X\n",
      "---|---|---\n",
      "   | X |  \n",
      "---|---|---\n",
      " X |   |  \n",
      "사용자가 이겼습니다!\n"
     ]
    }
   ],
   "source": [
    "## 수업일: 2025-03-26 수요일\n",
    "## 3주차과제 2023078086 최은재\n",
    "## tic-tac-toe 게임 만들기 \n",
    "\n",
    "def check_winner(board, player):\n",
    "    # 가로, 세로 체크 - 가로 세로 3줄 씩 있어서 총 2*3 번 검사\n",
    "    for i in range(3):\n",
    "        if all(board[i][j] == player for j in range(3)):  # 가로\n",
    "            return True\n",
    "        if all(board[j][i] == player for j in range(3)):  # 세로\n",
    "            return True\n",
    "\n",
    "    # 대각선 체크 - 하나씩만 있어서 반복문 사용 안해도 됨\n",
    "    if all(board[i][i] == player for i in range(3)):  # 왼→오 대각선\n",
    "        return True\n",
    "    if all(board[i][2 - i] == player for i in range(3)):  # 오→왼 대각선\n",
    "        return True\n",
    "\n",
    "    return False\n",
    "\n",
    "def print_board(board):\n",
    "    for r in range(3):\n",
    "        print(\" \" + board[r][0] + \" | \" + board[r][1] + \" | \" + board[r][2])\n",
    "        if r != 2:\n",
    "            print(\"---|---|---\")\n",
    "\n",
    "board = [[' ' for x in range(3)] for y in range(3)]\n",
    "\n",
    "while True:\n",
    "    print_board(board)\n",
    "\n",
    "    # 사용자 입력\n",
    "    x = int(input(\"다음 수의 x좌표를 입력하시오 (0~2): \"))\n",
    "    y = int(input(\"다음 수의 y좌표를 입력하시오 (0~2): \"))\n",
    "\n",
    "    # 좌표 검사\n",
    "    if board[x][y] != ' ':\n",
    "        print(\"잘못된 위치입니다. 다시 입력하세요.\\n\")\n",
    "        continue\n",
    "    else:\n",
    "        board[x][y] = 'X'\n",
    "\n",
    "    # 사용자 승리 체크\n",
    "    if check_winner(board, 'X'):\n",
    "        print_board(board)\n",
    "        print(\"사용자가 이겼습니다!\")\n",
    "        break\n",
    "\n",
    "    # 컴퓨터 차례\n",
    "    done = False\n",
    "    for i in range(3):\n",
    "        for j in range(3):\n",
    "            if board[i][j] == ' ':\n",
    "                board[i][j] = 'O'\n",
    "                done = True\n",
    "                break\n",
    "        if done:\n",
    "            break\n",
    "\n",
    "    # 컴퓨터 승리 체크\n",
    "    if check_winner(board, 'O'):\n",
    "        print_board(board)\n",
    "        print(\"컴퓨터가 이겼습니다!\")\n",
    "        break\n",
    "\n",
    "    # 무승부 체크\n",
    "    if all(board[i][j] != ' ' for i in range(3) for j in range(3)):\n",
    "        print_board(board)\n",
    "        print(\"무승부입니다!\")\n",
    "        break\n"
   ]
  },
  {
   "cell_type": "code",
   "execution_count": null,
   "id": "2435777e-69d4-42c3-9918-3f6c294da2f7",
   "metadata": {},
   "outputs": [],
   "source": [
    "## 초안\n",
    "\n",
    "board = [[' ' for x in range(3)] for y in range(3)]\n",
    "\n",
    "while True:\n",
    "    # 현재 보드 출력\n",
    "    for r in range(3):\n",
    "        print(\" \" + board[r][0] + \" | \" + board[r][1] + \" | \" + board[r][2])\n",
    "        if r != 2:\n",
    "            print(\"---|---|---\")\n",
    "\n",
    "    # 사용자 입력\n",
    "    x = int(input(\"다음 수의 x좌표를 입력하시오 (0~2): \"))\n",
    "    y = int(input(\"다음 수의 y좌표를 입력하시오 (0~2): \"))\n",
    "\n",
    "    # 좌표 검사\n",
    "    if board[x][y] != ' ':\n",
    "        print(\"잘못된 위치입니다. 다시 입력하세요.\\n\")\n",
    "        continue\n",
    "    else:\n",
    "        board[x][y] = 'X'\n",
    "\n",
    "    # 컴퓨터 차례 - 비어있는 첫 번째 칸을 찾음\n",
    "    done = False\n",
    "    for i in range(3):\n",
    "        for j in range(3):\n",
    "            if board[i][j] == ' ':\n",
    "                board[i][j] = 'O'\n",
    "                done = True\n",
    "                break\n",
    "        if done:\n",
    "            break\n"
   ]
  }
 ],
 "metadata": {
  "kernelspec": {
   "display_name": "Python 3 (ipykernel)",
   "language": "python",
   "name": "python3"
  },
  "language_info": {
   "codemirror_mode": {
    "name": "ipython",
    "version": 3
   },
   "file_extension": ".py",
   "mimetype": "text/x-python",
   "name": "python",
   "nbconvert_exporter": "python",
   "pygments_lexer": "ipython3",
   "version": "3.12.4"
  }
 },
 "nbformat": 4,
 "nbformat_minor": 5
}
